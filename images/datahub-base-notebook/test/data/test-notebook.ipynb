{
 "nbformat": 4,
 "nbformat_minor": 2,
 "metadata": {
  "language_info": {
   "name": "python",
   "codemirror_mode": {
    "name": "ipython",
    "version": 3
   },
   "version": "3.6.8-final"
  },
  "orig_nbformat": 2,
  "file_extension": ".py",
  "mimetype": "text/x-python",
  "name": "python",
  "npconvert_exporter": "python",
  "pygments_lexer": "ipython3",
  "version": 3,
  "kernelspec": {
   "display_name": "Python 3",
   "language": "python",
   "name": "python3"
  }
 },
 "cells": [
  {
   "cell_type": "code",
   "execution_count": null,
   "source": [
    "import os\n",
    "\n",
    "TESTDIR = '/tmp'"
   ],
   "outputs": [],
   "metadata": {}
  },
  {
   "cell_type": "code",
   "execution_count": null,
   "source": [
    "# these libraries need a UI test\n",
    "import ipywidgets\n",
    "import ipympl\n",
    "import widgetsnbextension\n",
    "import notebook\n",
    "import jupyterhub\n",
    "import jupyterlab\n",
    "import nbresuse\n",
    "import nbgitpuller\n",
    "import ipywidgets\n",
    "import nbgrader"
   ],
   "outputs": [],
   "metadata": {}
  },
  {
   "cell_type": "code",
   "execution_count": null,
   "source": [
    "# beautifulsoup4, adapted from https://www.crummy.com/software/BeautifulSoup/bs4/doc/\n",
    "from bs4 import BeautifulSoup\n",
    "\n",
    "html_doc = \"\"\"\n",
    "<html><head><title>The Dormouse's story</title></head>\n",
    "<body>\n",
    "<p class=\"title\"><b>The Dormouse's story</b></p>\n",
    "\n",
    "<p class=\"story\">Once upon a time there were three little sisters; and their names were\n",
    "<a href=\"http://example.com/elsie\" class=\"sister\" id=\"link1\">Elsie</a>,\n",
    "<a href=\"http://example.com/lacie\" class=\"sister\" id=\"link2\">Lacie</a> and\n",
    "<a href=\"http://example.com/tillie\" class=\"sister\" id=\"link3\">Tillie</a>;\n",
    "and they lived at the bottom of a well.</p>\n",
    "\n",
    "<p class=\"story\">...</p>\n",
    "\"\"\"\n",
    "soup = BeautifulSoup(html_doc, 'html.parser')\n",
    "\n",
    "soup.title"
   ],
   "outputs": [],
   "metadata": {}
  },
  {
   "cell_type": "code",
   "execution_count": null,
   "source": [
    "from bokeh.plotting import figure, output_file, show\n",
    "\n",
    "# prepare some data\n",
    "x = [1, 2, 3, 4, 5]\n",
    "y = [6, 7, 2, 4, 5]\n",
    "\n",
    "# output to static HTML file\n",
    "output_file(os.path.join(TESTDIR, \"lines.html\"))\n",
    "\n",
    "# create a new plot with a title and axis labels\n",
    "p = figure(title=\"simple line example\", x_axis_label='x', y_axis_label='y')\n",
    "\n",
    "# add a line renderer with legend and line thickness\n",
    "p.line(x, y, legend_label=\"Temp.\", line_width=2)\n",
    "\n",
    "# show the results\n",
    "show(p)"
   ],
   "outputs": [],
   "metadata": {}
  },
  {
   "cell_type": "code",
   "execution_count": null,
   "source": [
    "# cloudpickle, referenced from https://github.com/cloudpipe/cloudpickle\n",
    "import cloudpickle\n",
    "squared = lambda x: x ** 2\n",
    "pickled_lambda = cloudpickle.dumps(squared)\n",
    "\n",
    "import pickle\n",
    "new_squared = pickle.loads(pickled_lambda)\n",
    "assert new_squared(2) == 4"
   ],
   "outputs": [],
   "metadata": {}
  },
  {
   "cell_type": "code",
   "execution_count": null,
   "source": [
    "# # dask, referenced from https://examples.dask.org/array.html\n",
    "import dask\n",
    "from dask.distributed import Client, progress\n",
    "with dask.config.set({'temporary_directory': TESTDIR}):\n",
    "    client = Client(processes=False, threads_per_worker=4,\n",
    "                    n_workers=1, memory_limit='2GB')\n",
    "\n",
    "import dask.array as da\n",
    "x = da.random.random((10000, 10000), chunks=(1000, 1000))"
   ],
   "outputs": [],
   "metadata": {}
  },
  {
   "cell_type": "code",
   "execution_count": null,
   "source": [
    "import dill\n",
    "import pandas as pd\n",
    "\n",
    "assert float(pd.__version__[:3]) >= 1.1\n",
    "\n",
    "names = [\"John\", \"Mary\", \"Mary\", \"Suzanne\", \"John\", \"Suzanne\"]\n",
    "scores = [80, 90, 90, 92, 95, 100]\n",
    "\n",
    "records = pd.DataFrame({\"name\": names, \"score\": scores})\n",
    "means = records.groupby('name').mean()\n",
    "\n",
    "import dill as pickle\n",
    "pkl = os.path.join(TESTDIR, 'name_model.pkl')\n",
    "with open(pkl, 'wb') as file:\n",
    "    pickle.dump(means, file)\n",
    "\n",
    "with open(pkl, 'rb') as file:\n",
    "    B = pickle.load(file)\n",
    "\n",
    "def name_score_function(record):\n",
    "    if record in names:\n",
    "        return(means.loc[record, 'score'])\n",
    "\n",
    "assert name_score_function(\"John\") == 87.5"
   ],
   "outputs": [],
   "metadata": {}
  },
  {
   "cell_type": "code",
   "execution_count": null,
   "source": [
    "# matplotlib, referenced from https://matplotlib.org/tutorials/introductory/pyplot.html\n",
    "import matplotlib\n",
    "import matplotlib.pyplot as plt\n",
    "plt.plot([1, 2, 3, 4])\n",
    "plt.ylabel('some numbers')\n",
    "plt.show()\n",
    "\n",
    "savepath = os.path.join(TESTDIR, 'testplot.png')\n",
    "plt.savefig(savepath)\n",
    "assert os.path.isfile(savepath)"
   ],
   "outputs": [],
   "metadata": {}
  },
  {
   "cell_type": "code",
   "execution_count": null,
   "source": [
    "# skimage\n",
    "from skimage import data\n",
    "import os\n",
    "\n",
    "\n",
    "IMG = os.path.join(TESTDIR, 'testfig.png')\n",
    "\n",
    "matplotlib.rcParams['font.size'] = 18\n",
    "fig, axes = plt.subplots(1, 2, figsize=(8, 4))\n",
    "ax = axes.ravel()\n",
    "\n",
    "images = data.stereo_motorcycle()\n",
    "ax[0].imshow(images[0])\n",
    "ax[1].imshow(images[1])\n",
    "\n",
    "fig.tight_layout()\n",
    "plt.show()\n",
    "plt.savefig(IMG)\n",
    "\n",
    "assert os.path.isfile(IMG)"
   ],
   "outputs": [],
   "metadata": {}
  },
  {
   "cell_type": "code",
   "execution_count": null,
   "source": [
    "from sympy import symbols\n",
    "x, y = symbols('x y')\n",
    "expr = x + 2*y"
   ],
   "outputs": [],
   "metadata": {}
  },
  {
   "cell_type": "code",
   "execution_count": null,
   "source": [
    "# h5py, referenced from https://support.hdfgroup.org/ftp/HDF5/examples/Py/h5_crtdat.py\n",
    "import h5py\n",
    "filename = 'dset.h5'\n",
    "file = h5py.File(os.path.join(TESTDIR, filename),'w')\n",
    "dataset = file.create_dataset(\"dset\",(4, 6), h5py.h5t.STD_I32BE)\n",
    "file.close()\n",
    "\n",
    "assert os.path.isfile(os.path.join(TESTDIR, filename))"
   ],
   "outputs": [],
   "metadata": {}
  },
  {
   "cell_type": "code",
   "execution_count": null,
   "source": [
    "# pandas, referenced from https://pandas.pydata.org/pandas-docs/stable/getting_started/10min.html\n",
    "import pandas as pd\n",
    "\n",
    "dates = pd.date_range('20130101', periods=6)"
   ],
   "outputs": [],
   "metadata": {}
  },
  {
   "cell_type": "code",
   "execution_count": null,
   "source": [
    "from patsy import dmatrices, dmatrix, demo_data\n",
    "\n",
    "data = demo_data(\"a\", \"b\", \"x1\", \"x2\", \"y\", \"z column\")\n",
    "dmatrices(\"y ~ x1 + x2\", data)\n",
    "outcome, predictors = dmatrices(\"y ~ x1 + x2\", data)"
   ],
   "outputs": [],
   "metadata": {}
  },
  {
   "cell_type": "code",
   "execution_count": null,
   "source": [
    "# sklearn, referenced from https://scikit-learn.org/stable/tutorial/basic/tutorial.html\n",
    "from sklearn import datasets, svm\n",
    "iris = datasets.load_iris()\n",
    "digits = datasets.load_digits()\n",
    "clf = svm.SVC(gamma=0.001, C=100.)\n",
    "clf.fit(digits.data[:-1], digits.target[:-1])\n",
    "clf.predict(digits.data[-1:])"
   ],
   "outputs": [],
   "metadata": {}
  },
  {
   "cell_type": "code",
   "execution_count": null,
   "source": [
    "# scipy, adapted from https://docs.scipy.org/doc/scipy/reference/tutorial/optimize.html\n",
    "import numpy as np\n",
    "from scipy.optimize import minimize\n",
    "\n",
    "def rosen(x):\n",
    "    return sum(100.0*(x[1:]-x[:-1]**2.0)**2.0 + (1-x[:-1])**2.0)\n",
    "\n",
    "x0 = np.array([1.3, 0.7, 0.8, 1.9, 1.2])\n",
    "res = minimize(rosen, x0, method='nelder-mead', options={'xatol': 1e-8, 'disp': True})"
   ],
   "outputs": [],
   "metadata": {}
  },
  {
   "cell_type": "code",
   "execution_count": null,
   "source": [
    "# seaborn, https://seaborn.pydata.org/introduction.html and https://stackoverflow.com/questions/32244753/how-to-save-a-seaborn-plot-into-a-file\n",
    "import seaborn as sns\n",
    "sns.set()\n",
    "tips = sns.load_dataset(\"tips\")\n",
    "sns.relplot(x=\"total_bill\", y=\"tip\", col=\"time\",\n",
    "            hue=\"smoker\", style=\"smoker\", size=\"size\",\n",
    "            data=tips)\n",
    "\n",
    "savefile = os.path.join(TESTDIR, 'sns.png')\n",
    "df = sns.load_dataset('iris')\n",
    "sns_plot = sns.pairplot(df, hue='species', height=2.5)\n",
    "sns_plot.savefig(savefile)\n",
    "\n",
    "assert os.path.isfile(savefile)"
   ],
   "outputs": [],
   "metadata": {}
  },
  {
   "cell_type": "code",
   "execution_count": null,
   "source": [
    "# sqlalchemy, adapted from https://leportella.com/english/2019/01/10/sqlalchemy-basics-tutorial.html\n",
    "from sqlalchemy import create_engine\n",
    "\n",
    "engine = create_engine('sqlite:///:memory:', echo=True)\n",
    "conn = engine.connect()\n",
    "trans = conn.begin()\n",
    "conn.execute('CREATE TABLE EX1 (name)')\n",
    "conn.execute('INSERT INTO \"EX1\" (name) '\n",
    "             'VALUES (\"Hello\")')\n",
    "trans.commit()"
   ],
   "outputs": [],
   "metadata": {}
  },
  {
   "cell_type": "code",
   "execution_count": null,
   "source": [
    "# statsmodels, referenced from https://www.statsmodels.org/stable/examples/notebooks/generated/ols.html\n",
    "import statsmodels.api as sm\n",
    "import matplotlib.pyplot as plt\n",
    "from statsmodels.sandbox.regression.predstd import wls_prediction_std\n",
    "\n",
    "np.random.seed(9876789)\n",
    "nsample = 100\n",
    "x = np.linspace(0, 10, 100)\n",
    "X = np.column_stack((x, x**2))\n",
    "beta = np.array([1, 0.1, 10])\n",
    "e = np.random.normal(size=nsample)\n",
    "X = sm.add_constant(X)\n",
    "y = np.dot(X, beta) + e\n",
    "\n",
    "model = sm.OLS(y, X)\n",
    "results = model.fit()\n",
    "print(results.summary())"
   ],
   "outputs": [],
   "metadata": {}
  },
  {
   "cell_type": "code",
   "execution_count": null,
   "source": [
    "# vincent, https://vincent.readthedocs.io/en/latest/quickstart.html\n",
    "# import vincent\n",
    "\n",
    "# list_data = [10, 20, 30, 20, 15, 30, 45]\n",
    "# bar = vincent.Bar(list_data)"
   ],
   "outputs": [],
   "metadata": {}
  },
  {
   "cell_type": "code",
   "execution_count": null,
   "source": [
    "# xlrd, https://blogs.harvard.edu/rprasad/2014/06/16/reading-excel-with-python-xlrd/\n",
    "# commenting this block out because xlrd stopped supporting .xlsx files\n",
    "'''\n",
    "import xlrd\n",
    "\n",
    "fname = os.path.join(TESTDIR, 'excel_example.xlsx')\n",
    "\n",
    "# Open the workbook\n",
    "xl_workbook = xlrd.open_workbook(fname)\n",
    "'''"
   ],
   "outputs": [],
   "metadata": {}
  }
 ]
}